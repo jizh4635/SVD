{
  "nbformat": 4,
  "nbformat_minor": 0,
  "metadata": {
    "colab": {
      "provenance": []
    },
    "kernelspec": {
      "name": "python3",
      "display_name": "Python 3"
    },
    "language_info": {
      "name": "python"
    }
  },
  "cells": [
    {
      "cell_type": "markdown",
      "source": [
        "1. Load the movine data"
      ],
      "metadata": {
        "id": "bXiLz3dMUFTy"
      }
    },
    {
      "cell_type": "code",
      "source": [
        "import pandas as pd\n",
        "import matplotlib.pyplot as plt\n",
        "import numpy as np\n",
        "import time\n",
        "\n",
        "from sklearn.decomposition import TruncatedSVD\n",
        "from sklearn.metrics import mean_squared_error\n",
        "\n",
        "MV_users = pd.read_csv('data/users.csv')\n",
        "MV_movies = pd.read_csv('data/movies.csv')\n",
        "train = pd.read_csv('data/train.csv')\n",
        "test = pd.read_csv('data/test.csv')\n",
        "\n",
        "print(MV_users.head())\n",
        "print(MV_movies.head())\n",
        "print(train.head())\n",
        "print(test.head())\n",
        "\n",
        "from collections import namedtuple\n",
        "Data = namedtuple('Data', ['users','movies','train','test'])\n",
        "data = Data(MV_users, MV_movies, train, test)\n"
      ],
      "metadata": {
        "colab": {
          "base_uri": "https://localhost:8080/"
        },
        "id": "zxfxv4gkUJMA",
        "outputId": "7a23e833-65ea-4cf5-a161-ea26babe2049"
      },
      "execution_count": 16,
      "outputs": [
        {
          "output_type": "stream",
          "name": "stdout",
          "text": [
            "   uID gender  age  accupation    zip\n",
            "0    1      F    1          10  48067\n",
            "1    2      M   56          16  70072\n",
            "2    3      M   25          15  55117\n",
            "3    4      M   45           7  02460\n",
            "4    5      M   25          20  55455\n",
            "   mID                        title  year  Doc  Com  Hor  Adv  Wes  Dra  Ani  \\\n",
            "0    1                    Toy Story  1995    0    1    0    0    0    0    1   \n",
            "1    2                      Jumanji  1995    0    0    0    1    0    0    0   \n",
            "2    3             Grumpier Old Men  1995    0    1    0    0    0    0    0   \n",
            "3    4            Waiting to Exhale  1995    0    1    0    0    0    1    0   \n",
            "4    5  Father of the Bride Part II  1995    0    1    0    0    0    0    0   \n",
            "\n",
            "   ...  Chi  Cri  Thr  Sci  Mys  Rom  Fil  Fan  Act  Mus  \n",
            "0  ...    1    0    0    0    0    0    0    0    0    0  \n",
            "1  ...    1    0    0    0    0    0    0    1    0    0  \n",
            "2  ...    0    0    0    0    0    1    0    0    0    0  \n",
            "3  ...    0    0    0    0    0    0    0    0    0    0  \n",
            "4  ...    0    0    0    0    0    0    0    0    0    0  \n",
            "\n",
            "[5 rows x 21 columns]\n",
            "    uID   mID  rating\n",
            "0   744  1210       5\n",
            "1  3040  1584       4\n",
            "2  1451  1293       5\n",
            "3  5455  3176       2\n",
            "4  2507  3074       5\n",
            "    uID   mID  rating\n",
            "0  2233   440       4\n",
            "1  4274   587       5\n",
            "2  2498   454       3\n",
            "3  2868  2336       5\n",
            "4  1636  2686       5\n"
          ]
        }
      ]
    },
    {
      "cell_type": "code",
      "source": [
        "\n",
        "\n",
        "# Read the data\n",
        "MV_users = pd.read_csv('data/users.csv')\n",
        "MV_movies = pd.read_csv('data/movies.csv')\n",
        "train = pd.read_csv('data/train.csv')\n",
        "test = pd.read_csv('data/test.csv')\n",
        "\n",
        "# Create the user-item matrix from the training data\n",
        "user_item_matrix = train.pivot_table(index='uID', columns='mID', values='rating').fillna(0)\n",
        "\n",
        "# Apply SVD\n",
        "n_components = 100  # You can tune this parameter to achieve better performance\n",
        "svd = TruncatedSVD(n_components)\n",
        "svd.fit(user_item_matrix)\n",
        "U = svd.transform(user_item_matrix)\n",
        "Vt = svd.components_\n",
        "\n",
        "# Make predictions for the test data\n",
        "predicted_ratings = np.dot(U, Vt)\n",
        "\n",
        "# Calculate the RMSE\n",
        "test_user_indices = [user_item_matrix.index.get_loc(user_id) for user_id in test['uID']]\n",
        "test_movie_indices = []\n",
        "\n",
        "for movie_id in test['mID']:\n",
        "    try:\n",
        "        movie_index = user_item_matrix.columns.get_loc(movie_id)\n",
        "    except KeyError:\n",
        "        movie_index = -1\n",
        "    test_movie_indices.append(movie_index)\n",
        "\n",
        "default_rating = train['rating'].mean()\n",
        "predicted_test_ratings = []\n",
        "\n",
        "for user_index, movie_index in zip(test_user_indices, test_movie_indices):\n",
        "    if movie_index == -1:\n",
        "        predicted_rating = default_rating\n",
        "    else:\n",
        "        predicted_rating = predicted_ratings[user_index, movie_index]\n",
        "    predicted_test_ratings.append(predicted_rating)\n",
        "\n",
        "# Print the predicted ratings along with their corresponding user and movie IDs\n",
        "predicted_ratings_df = test.copy()\n",
        "predicted_ratings_df['predicted_rating'] = predicted_test_ratings\n",
        "print(\"\\nPredicted Ratings:\")\n",
        "print(predicted_ratings_df)\n",
        "\n",
        "rmse = np.sqrt(mean_squared_error(test['rating'], predicted_test_ratings))\n",
        "\n",
        "print(f\"RMSE: {rmse}\")\n"
      ],
      "metadata": {
        "id": "axtpl-L_W9dM",
        "outputId": "f58e22c2-0834-4d19-8fb4-92e2002125f9",
        "colab": {
          "base_uri": "https://localhost:8080/"
        }
      },
      "execution_count": 17,
      "outputs": [
        {
          "output_type": "stream",
          "name": "stdout",
          "text": [
            "\n",
            "Predicted Ratings:\n",
            "         uID   mID  rating  predicted_rating\n",
            "0       2233   440       4          2.070383\n",
            "1       4274   587       5          0.578288\n",
            "2       2498   454       3          0.725803\n",
            "3       2868  2336       5          1.632677\n",
            "4       1636  2686       5          0.521394\n",
            "...      ...   ...     ...               ...\n",
            "300058   810   247       4          0.752717\n",
            "300059  1193  3210       4          0.602386\n",
            "300060  6039  2289       4         -0.110400\n",
            "300061  5397   429       3          0.083545\n",
            "300062  1912   117       4          0.034692\n",
            "\n",
            "[300063 rows x 4 columns]\n",
            "RMSE: 3.019331440853742\n"
          ]
        }
      ]
    },
    {
      "cell_type": "markdown",
      "source": [
        "RMSE, Root Mean Squared Error, measures the difference between the predicted values and the actual values in a regression problem. Usually, a lower RMSE value indicates that the predictions are closer to the actual values. In the case of movie ratings, which typically range from 1 to 5, an RMSE of 3.02 is relatively high. This means that, on average, the predicted ratings differ from the actual ratings by around 3.02 points.\n",
        "\n",
        "To improve the model's performance, you can try different approaches:\n",
        "\n",
        "1. Tune the n_components parameter in the TruncatedSVD to find the optimal \n",
        "number of latent features that minimize the RMSE.\n",
        "\n",
        "2. Use other matrix factorization techniques, such as Non-negative Matrix Factorization (NMF) or Probabilistic Matrix Factorization (PMF)."
      ],
      "metadata": {
        "id": "RtA6J1iro8RQ"
      }
    }
  ]
}